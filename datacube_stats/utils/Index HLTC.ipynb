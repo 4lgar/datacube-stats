{
 "cells": [
  {
   "cell_type": "markdown",
   "metadata": {},
   "source": [
    "# Index HLTC Datasets\n",
    "Index the High/Low Titde Composite product, producing dataset documents that match the product definition."
   ]
  },
  {
   "cell_type": "code",
   "execution_count": 13,
   "metadata": {
    "collapsed": true
   },
   "outputs": [],
   "source": [
    "base_path = '/g/data/fk4/datacube/002/HLTC/HLTC_2_0/'\n",
    "product_dict = {\n",
    "    'high_tide_comp_20p': 'COMPOSITE_HIGH',\n",
    "    'high_tide_comp_count': 'COUNT_HIGH',\n",
    "    'low_tide_comp_20p': 'COMPOSITE_LOW',\n",
    "    'low_tide_comp_count': 'COUNT_LOW',\n",
    "}"
   ]
  },
  {
   "cell_type": "code",
   "execution_count": 14,
   "metadata": {
    "collapsed": true
   },
   "outputs": [],
   "source": [
    "import glob"
   ]
  },
  {
   "cell_type": "code",
   "execution_count": 4,
   "metadata": {
    "collapsed": true
   },
   "outputs": [],
   "source": [
    "import netCDF4 as nc\n",
    "import xarray as xr"
   ]
  },
  {
   "cell_type": "code",
   "execution_count": 5,
   "metadata": {
    "collapsed": true
   },
   "outputs": [],
   "source": [
    "import yaml\n",
    "try:\n",
    "    from yaml import CSafeLoader as SafeLoader\n",
    "except ImportError:\n",
    "    from yaml import SafeLoader"
   ]
  },
  {
   "cell_type": "code",
   "execution_count": 6,
   "metadata": {
    "collapsed": true
   },
   "outputs": [],
   "source": [
    "from datacube.index._api import Index\n",
    "from datacube.index.postgres import PostgresDb\n",
    "from datacube.model import Dataset, DatasetType as Product, MetadataType\n",
    "from datacube.scripts.dataset import read_documents, create_dataset, parse_match_rules_options, find_matching_product\n",
    "from datacube.utils import changes, validate_document\n",
    "import json"
   ]
  },
  {
   "cell_type": "code",
   "execution_count": 7,
   "metadata": {
    "collapsed": true
   },
   "outputs": [],
   "source": [
    "class SimpleConfig():\n",
    "    def __init__(self, **config):\n",
    "        try:\n",
    "            import os\n",
    "            import pwd\n",
    "            default_username = pwd.getpwuid(os.geteuid()).pw_name\n",
    "        except ImportError:\n",
    "            # No default on Windows\n",
    "            default_username = None\n",
    "            \n",
    "        self._config = {\n",
    "            'db_hostname': '',\n",
    "            'db_database': 'datacube',\n",
    "            'db_connection_timeout': 60,\n",
    "            'db_username': default_username,\n",
    "        }\n",
    "        self._config.update(config)\n",
    "        \n",
    "    def __getattr__(self, name):\n",
    "        return self._config.get(name, None)\n",
    "    \n",
    "    def __dir__(self):\n",
    "        return self._config.keys()\n",
    "    \n",
    "    def __str__(self):\n",
    "        return \"SimpleConfig:{}\".format(''.join('\\n\\t{}: {}'.format(*item) for item in self._config.items()))\n",
    "\n",
    "    def __repr__(self):\n",
    "        return self.__str__()"
   ]
  },
  {
   "cell_type": "markdown",
   "metadata": {},
   "source": [
    "## Set up dev and prod indexes"
   ]
  },
  {
   "cell_type": "code",
   "execution_count": 9,
   "metadata": {},
   "outputs": [],
   "source": [
    "dev_config = SimpleConfig(db_hostname='130.56.244.110', db_database='andrewcube')\n",
    "dev_index = Index(PostgresDb.from_config(dev_config, application_name='reindex'))"
   ]
  },
  {
   "cell_type": "code",
   "execution_count": 10,
   "metadata": {},
   "outputs": [],
   "source": [
    "prod_config = SimpleConfig(db_hostname='130.56.244.105', db_database='datacube', db_port='6432')\n",
    "prod_index = Index(PostgresDb.from_config(prod_config, application_name='reindex'))"
   ]
  },
  {
   "cell_type": "markdown",
   "metadata": {},
   "source": [
    "* Add products to index\n",
    "* Read dataset docs\n",
    "* Correct Dataset doc\n",
    "* Create dataset object\n",
    "* Add to index"
   ]
  },
  {
   "cell_type": "markdown",
   "metadata": {},
   "source": [
    "## Add products to index"
   ]
  },
  {
   "cell_type": "code",
   "execution_count": 11,
   "metadata": {},
   "outputs": [],
   "source": [
    "def add_products(index, products_def_doc):\n",
    "    for product_doc_pth, product_doc in read_documents(products_def_doc):\n",
    "        print(product_doc['name'])\n",
    "        try:\n",
    "            index.products.add_document(product_doc)\n",
    "        except changes.DocumentMismatchError as e:\n",
    "            index.products.update_document(product_doc, allow_unsafe_updates=True)"
   ]
  },
  {
   "cell_type": "code",
   "execution_count": null,
   "metadata": {
    "collapsed": true
   },
   "outputs": [],
   "source": [
    "products_def_doc = '/home/547/adh547/Projects/digitalearthau/digitalearthau/config/products/hltc.yaml'\n",
    "add_products(dev_index, products_def_doc)"
   ]
  },
  {
   "cell_type": "code",
   "execution_count": 12,
   "metadata": {
    "collapsed": true
   },
   "outputs": [],
   "source": [
    "def make_rules(index):\n",
    "    all_product_names = [prod.name for prod in index.products.get_all()]\n",
    "    rules = parse_match_rules_options(index, None, all_product_names, True)\n",
    "    return rules"
   ]
  },
  {
   "cell_type": "code",
   "execution_count": 17,
   "metadata": {
    "collapsed": true
   },
   "outputs": [],
   "source": [
    "rules = make_rules(dev_index)"
   ]
  },
  {
   "cell_type": "markdown",
   "metadata": {},
   "source": [
    "## Loop over every product, and every file"
   ]
  },
  {
   "cell_type": "code",
   "execution_count": 18,
   "metadata": {
    "collapsed": true
   },
   "outputs": [],
   "source": [
    "from tqdm import tqdm_notebook\n",
    "import logging\n",
    "logger = logging.getLogger()\n",
    "logger.setLevel(logging.CRITICAL)"
   ]
  },
  {
   "cell_type": "code",
   "execution_count": 22,
   "metadata": {
    "collapsed": true
   },
   "outputs": [],
   "source": [
    "import pandas as pd\n",
    "import datetime\n",
    "def to_isodatetime(dt_string):\n",
    "    return pd.to_datetime(dt_string).isoformat()"
   ]
  },
  {
   "cell_type": "code",
   "execution_count": 24,
   "metadata": {
    "scrolled": false
   },
   "outputs": [
    {
     "name": "stdout",
     "output_type": "stream",
     "text": [
      "high_tide_comp_20p\n"
     ]
    },
    {
     "data": {
      "text/plain": [
       "A Jupyter Widget"
      ]
     },
     "metadata": {},
     "output_type": "display_data"
    },
    {
     "name": "stdout",
     "output_type": "stream",
     "text": [
      "\n",
      "\n",
      "high_tide_comp_count\n"
     ]
    },
    {
     "data": {
      "text/plain": [
       "A Jupyter Widget"
      ]
     },
     "metadata": {},
     "output_type": "display_data"
    },
    {
     "name": "stdout",
     "output_type": "stream",
     "text": [
      "\n",
      "low_tide_comp_20p\n"
     ]
    },
    {
     "data": {
      "text/plain": [
       "A Jupyter Widget"
      ]
     },
     "metadata": {},
     "output_type": "display_data"
    },
    {
     "name": "stdout",
     "output_type": "stream",
     "text": [
      "\n",
      "low_tide_comp_count\n"
     ]
    },
    {
     "data": {
      "text/plain": [
       "A Jupyter Widget"
      ]
     },
     "metadata": {},
     "output_type": "display_data"
    },
    {
     "name": "stdout",
     "output_type": "stream",
     "text": [
      "\n"
     ]
    }
   ],
   "source": [
    "def index_datasets(index, product_dict, base_path, rules):\n",
    "    for product_name, product_prefix in product_dict.items():\n",
    "        file_list = glob.glob(base_path + product_prefix + '*.nc')\n",
    "        product_obj = index.products.get_by_name(product_name)\n",
    "\n",
    "        print(product_name)\n",
    "        for file_name in tqdm_notebook(file_list):\n",
    "            pth, doc = next(read_documents(file_name))\n",
    "            uri = pth.absolute().as_uri()\n",
    "\n",
    "            xr_dataset = xr.open_dataset(file_name)\n",
    "            doc['extent']['from_dt'] = datetime.datetime(2000, 1, 1, 0, 0).isoformat()\n",
    "            doc['extent']['to_dt'] = datetime.datetime(2016, 10, 31, 0, 0).isoformat()\n",
    "            doc['extent']['key_dt'] = datetime.datetime(2016, 10, 31, 0, 0).isoformat()       \n",
    "\n",
    "            doc['image']['bands'] = {key: {'layer': key, 'path': ''} for key in product_obj.measurements.keys()}\n",
    "            \n",
    "            doc.update(product_obj.metadata_doc)\n",
    "\n",
    "            dataset = create_dataset(doc, uri, rules)\n",
    "\n",
    "            try:\n",
    "                index.datasets.add(dataset, sources_policy='ensure')\n",
    "            except changes.DocumentMismatchError as e:\n",
    "                print(e)\n",
    "                index.datasets.update(dataset, {tuple(): changes.allow_any})\n",
    "                \n",
    "\n",
    "index_datasets(dev_index, product_dict, base_path, rules)"
   ]
  },
  {
   "cell_type": "markdown",
   "metadata": {},
   "source": [
    "## Query and plot data"
   ]
  },
  {
   "cell_type": "code",
   "execution_count": null,
   "metadata": {
    "collapsed": true
   },
   "outputs": [],
   "source": [
    "%matplotlib inline"
   ]
  },
  {
   "cell_type": "code",
   "execution_count": null,
   "metadata": {
    "collapsed": true
   },
   "outputs": [],
   "source": [
    "import datacube\n",
    "dc = datacube.Datacube(index=dev_index)"
   ]
  },
  {
   "cell_type": "code",
   "execution_count": null,
   "metadata": {
    "collapsed": true
   },
   "outputs": [],
   "source": [
    "query = dict(lat=(-20.25, -20.35), lon=(118.525, 118.575), resolution=(25,25))"
   ]
  },
  {
   "cell_type": "code",
   "execution_count": null,
   "metadata": {
    "collapsed": true
   },
   "outputs": [],
   "source": [
    "data_high = dc.load(product='high_tide_comp_20p', **query)\n",
    "data_high.red.plot()"
   ]
  },
  {
   "cell_type": "code",
   "execution_count": null,
   "metadata": {
    "collapsed": true
   },
   "outputs": [],
   "source": [
    "data_low = dc.load(product='low_tide_comp_20p', **query)\n",
    "data_low.red.plot()"
   ]
  },
  {
   "cell_type": "code",
   "execution_count": null,
   "metadata": {
    "collapsed": true
   },
   "outputs": [],
   "source": []
  }
 ],
 "metadata": {
  "kernelspec": {
   "display_name": "Python 3",
   "language": "python",
   "name": "python3"
  },
  "language_info": {
   "codemirror_mode": {
    "name": "ipython",
    "version": 3
   },
   "file_extension": ".py",
   "mimetype": "text/x-python",
   "name": "python",
   "nbconvert_exporter": "python",
   "pygments_lexer": "ipython3",
   "version": "3.6.2"
  }
 },
 "nbformat": 4,
 "nbformat_minor": 2
}
